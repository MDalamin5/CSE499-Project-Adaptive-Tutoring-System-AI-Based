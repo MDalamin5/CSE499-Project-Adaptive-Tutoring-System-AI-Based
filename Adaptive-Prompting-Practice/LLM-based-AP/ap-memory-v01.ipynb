{
 "cells": [
  {
   "cell_type": "code",
   "execution_count": 55,
   "id": "67a0998d",
   "metadata": {},
   "outputs": [],
   "source": [
    "from langchain_core.prompts import PromptTemplate, ChatPromptTemplate, MessagesPlaceholder\n",
    "from langchain_core.output_parsers import StrOutputParser\n",
    "from langchain.schema.runnable import RunnableLambda, RunnableBranch, RunnableSequence\n",
    "from langchain_core.messages import HumanMessage, AIMessage, SystemMessage\n",
    "import os\n",
    "from dotenv import load_dotenv\n",
    "load_dotenv()\n",
    "from langchain_groq import ChatGroq\n",
    "from pydantic import BaseModel, Field\n",
    "from typing import Literal\n",
    "from langchain_core.output_parsers import PydanticOutputParser\n",
    "\n",
    "\n",
    "groq_api_key=os.getenv(\"GROQ_API_KEY\")\n",
    "\n",
    "model=ChatGroq(groq_api_key=groq_api_key,model_name=\"qwen-2.5-32b\")"
   ]
  },
  {
   "cell_type": "code",
   "execution_count": 56,
   "id": "04dbbb80",
   "metadata": {},
   "outputs": [],
   "source": [
    "class StuOutputCorrectness(BaseModel):\n",
    "    sentiment: Literal['correct', 'partially_correct', 'incorrect'] = Field(description='Give the sentiment from the student response')\n",
    "    \n",
    "parser = PydanticOutputParser(pydantic_object=StuOutputCorrectness)"
   ]
  },
  {
   "cell_type": "code",
   "execution_count": 57,
   "id": "7cb91c64",
   "metadata": {},
   "outputs": [],
   "source": [
    "system_messages = \"You are a helpful assistant\""
   ]
  },
  {
   "cell_type": "code",
   "execution_count": 58,
   "id": "db55dead",
   "metadata": {},
   "outputs": [],
   "source": [
    "from langchain.prompts import ChatPromptTemplate\n",
    "\n",
    "chat_prompt = ChatPromptTemplate.from_messages(\n",
    "    [\n",
    "        (\"system\", system_messages),\n",
    "        (\"human\", \n",
    "         \"Analyze the following student response and classify its correctness. \"\n",
    "         \"Determine whether it is 'correct', 'partially_correct', or 'incorrect'.\\n\\n\"\n",
    "         \"Student Response: {response}\\n\\n\"\n",
    "         \"Provide the classification following this format:\\n{format_instruction}\")\n",
    "    ]\n",
    ").partial(format_instruction=parser.get_format_instructions())"
   ]
  },
  {
   "cell_type": "code",
   "execution_count": 59,
   "id": "d8af7fc1",
   "metadata": {},
   "outputs": [],
   "source": [
    "classifier_chain = chat_prompt | model | parser"
   ]
  },
  {
   "cell_type": "code",
   "execution_count": 60,
   "id": "f6fc241e",
   "metadata": {},
   "outputs": [
    {
     "data": {
      "text/plain": [
       "StuOutputCorrectness(sentiment='incorrect')"
      ]
     },
     "execution_count": 60,
     "metadata": {},
     "output_type": "execute_result"
    }
   ],
   "source": [
    "classifier_chain.invoke(\n",
    "    {\n",
    "        'response': \"This sum of 2+2=5\"\n",
    "    }\n",
    ")"
   ]
  },
  {
   "cell_type": "markdown",
   "id": "aa4a5fb9",
   "metadata": {},
   "source": [
    "## ***Adaptive Prompt With Messages History***"
   ]
  },
  {
   "cell_type": "code",
   "execution_count": 61,
   "id": "51ed880b",
   "metadata": {},
   "outputs": [],
   "source": [
    "chat_prompt = ChatPromptTemplate.from_messages(\n",
    "    [\n",
    "        (\"system\", \"Analyze the following student response and classify its correctness.\"\n",
    "         \"Determine whether it is 'correct', 'partially_correct', or 'incorrect'.\\n\\n\"\n",
    "         \"Student Response: {response}\\n\\n\"\n",
    "         \"Provide the classification following this format:\\n{format_instruction}\"),\n",
    "        MessagesPlaceholder(variable_name='messages')\n",
    "    ]\n",
    ").partial(format_instruction=parser.get_format_instructions())"
   ]
  },
  {
   "cell_type": "code",
   "execution_count": 62,
   "id": "c55e66d0",
   "metadata": {},
   "outputs": [],
   "source": [
    "classifier_chain = chat_prompt | model | parser"
   ]
  },
  {
   "cell_type": "code",
   "execution_count": 63,
   "id": "2e662c9a",
   "metadata": {},
   "outputs": [],
   "source": [
    "## List of messages\n",
    "messages = [\n",
    "                HumanMessage(content=\"solve this problem and 2+2=0?\"),\n",
    "                AIMessage(content=\"This is a addition problem and think about you have tow apple and your friend also give 2 more apple now how many apple you have. Its a hints to solve this problem.\"),\n",
    "            ]"
   ]
  },
  {
   "cell_type": "code",
   "execution_count": 64,
   "id": "10d23f94",
   "metadata": {},
   "outputs": [
    {
     "data": {
      "text/plain": [
       "StuOutputCorrectness(sentiment='partially_correct')"
      ]
     },
     "execution_count": 64,
     "metadata": {},
     "output_type": "execute_result"
    }
   ],
   "source": [
    "classifier_chain.invoke(\n",
    "    {\n",
    "        \n",
    "        'messages': messages,\n",
    "        'response':\"maybe i have 3 apple or 4 i'm bit confused. so 2+2=4\",\n",
    "        \n",
    "    }\n",
    ")"
   ]
  },
  {
   "cell_type": "markdown",
   "id": "2387dbb7",
   "metadata": {},
   "source": [
    "## Add Branch"
   ]
  },
  {
   "cell_type": "code",
   "execution_count": 92,
   "id": "01543b9a",
   "metadata": {},
   "outputs": [],
   "source": [
    "from langchain.prompts import ChatPromptTemplate, MessagesPlaceholder\n",
    "\n",
    "prompt_correct = ChatPromptTemplate.from_messages(\n",
    "    [\n",
    "        (\"system\", \n",
    "         \"Student gave the correct response and the response is {response}. \"\n",
    "         \"Now give an adaptive prompt so the model can generate only the best response for the next step. \"\n",
    "         \"Also analyze previous message history — it will help generate a better adaptive prompt.\"),\n",
    "        MessagesPlaceholder(variable_name=\"messages\")\n",
    "    ]\n",
    ")\n",
    "\n",
    "prompt_partially_correct = ChatPromptTemplate.from_messages(\n",
    "    [\n",
    "        (\"system\", \n",
    "         \"\"\"\n",
    "         your task is generate a best adaptive prompt. And this adaptive prompt goes to my main model as the system prompt. Using this prompt the main model will be generated the elaborated response you just generate one the adaptive prompt only. Think you just help to main model as a instructor like a boss.\n",
    "         for generate one best adaptive prompt you can analysis the previous chat and current response also.\n",
    "         Student gave a response which is partially correct and the response is {response}. \n",
    "         \"\"\"\n",
    "         ),\n",
    "        MessagesPlaceholder(variable_name=\"messages\")\n",
    "    ]\n",
    ")\n",
    "\n",
    "prompt_incorrect = ChatPromptTemplate.from_messages(\n",
    "    [\n",
    "        (\"system\", \n",
    "         \"Student gave a totally incorrect response and the response is {response}. \"\n",
    "         \"Analyze the student’s misunderstanding — maybe they need clarification on core concepts. \"\n",
    "         \"Provide elaborated hints or ask guiding questions. \"\n",
    "         \"Use previous message history to craft the best adaptive prompt for the next step.\"),\n",
    "        MessagesPlaceholder(variable_name=\"messages\")\n",
    "    ]\n",
    ")\n"
   ]
  },
  {
   "cell_type": "code",
   "execution_count": 93,
   "id": "2dab5387",
   "metadata": {},
   "outputs": [],
   "source": [
    "str_parser = StrOutputParser()"
   ]
  },
  {
   "cell_type": "code",
   "execution_count": 94,
   "id": "688c651d",
   "metadata": {},
   "outputs": [],
   "source": [
    "branch_chain = RunnableBranch(\n",
    "    (lambda x: x[\"sentiment\"] == 'correct', prompt_correct | model | str_parser),\n",
    "    (lambda x: x[\"sentiment\"] == 'partially_correct', prompt_partially_correct | model | str_parser),\n",
    "    (lambda x: x[\"sentiment\"] == 'incorrect', prompt_incorrect | model | str_parser),\n",
    "    RunnableLambda(lambda x: \"Couldn't determine sentiment.\")\n",
    ")\n"
   ]
  },
  {
   "cell_type": "code",
   "execution_count": 95,
   "id": "f98b2fb5",
   "metadata": {},
   "outputs": [],
   "source": [
    "from langchain_core.runnables import RunnableLambda\n",
    "\n",
    "# Wrap classifier_chain to return full input + parsed sentiment\n",
    "def enrich_with_sentiment(input: dict) -> dict:\n",
    "    sentiment_result = classifier_chain.invoke(input)\n",
    "    print(sentiment_result)\n",
    "    return {\n",
    "        **input,  # includes 'messages' and 'response'\n",
    "        'sentiment': sentiment_result.sentiment\n",
    "    }\n",
    "\n",
    "enriched_chain = RunnableLambda(enrich_with_sentiment)\n"
   ]
  },
  {
   "cell_type": "code",
   "execution_count": 96,
   "id": "d15e8167",
   "metadata": {},
   "outputs": [],
   "source": [
    "final_chain = enriched_chain | branch_chain"
   ]
  },
  {
   "cell_type": "code",
   "execution_count": 91,
   "id": "7918a4b2",
   "metadata": {},
   "outputs": [
    {
     "name": "stdout",
     "output_type": "stream",
     "text": [
      "sentiment='partially_correct'\n",
      "Based on the student's response and the problem at hand, here is an adaptive prompt to guide the main model in generating a more elaborated and helpful response:\n",
      "\n",
      "---\n",
      "\n",
      "**Adaptive Prompt:**\n",
      "\n",
      "The student has provided a partially correct response, showing some confusion about the quantities involved. They are struggling with a basic addition problem and seem to be mixing up different scenarios. The student's response indicates a need for a clearer, step-by-step explanation and a concrete example to solidify their understanding.\n",
      "\n",
      "You should confirm the correct answer for the addition problem 2 + 2 and provide a simple, relatable example to help the student understand and remember the concept. Additionally, address their confusion about having 3 or 4 apples to help clarify the difference between the scenarios.\n",
      "\n",
      "---\n",
      "\n",
      "**Elaborated Response:**\n",
      "\n",
      "You mentioned that you might have 3 apples or 4 apples and you're a bit confused. Let's break it down step-by-step.\n",
      "\n",
      "For the problem 2 + 2, imagine you have 2 apples in one hand and 2 apples in the other hand. If you put them all together, you would have 4 apples in total. So, 2 + 2 = 4.\n",
      "\n",
      "Now, let's address the confusion about having 3 or 4 apples. If you have 3 apples, and someone gives you 1 more apple, then you would have 4 apples. But if you start with 2 apples and get 2 more apples, you end up with 4 apples.\n",
      "\n",
      "In summary, 2 + 2 = 4. If you have 2 apples and get 2 more, you will have 4 apples in total. If you are unsure about the number of apples, count them one by one to confirm the total.\n",
      "\n",
      "---\n",
      "\n",
      "This adaptive prompt should help the main model generate a response that is both informative and tailored to the student's current level of understanding.\n"
     ]
    }
   ],
   "source": [
    "adaptive_prompt = final_chain.invoke(\n",
    "    {\n",
    "        \n",
    "        'messages': messages,\n",
    "        'response':\"maybe i have 3 apple or 4 i'm bit confused. so 2+2=4\",\n",
    "        \n",
    "    }\n",
    ")\n",
    "print(adaptive_prompt)"
   ]
  },
  {
   "cell_type": "code",
   "execution_count": 97,
   "id": "eec272a0",
   "metadata": {},
   "outputs": [
    {
     "name": "stdout",
     "output_type": "stream",
     "text": [
      "sentiment='partially_correct'\n",
      "Based on the context and the need to guide the student effectively, here is an adaptive prompt for your main model:\n",
      "\n",
      "---\n",
      "\n",
      "**Adaptive Prompt:**\n",
      "\n",
      "You are an experienced math tutor helping a student who is partially correct but still a bit confused. The student mentioned they might have 3 or 4 apples and is unsure, but correctly identified that 2 + 2 = 4. Now, the student is presented with a new problem: 2 + 2 = 0. Guide the student through this problem by first reinforcing their understanding of basic addition and then addressing the new equation. Use clear and simple language to help them understand why 2 + 2 does not equal 0 and encourage them to think through the logic step-by-step.\n",
      "\n",
      "---\n",
      "\n",
      "This prompt will help the main model generate a response that is both instructive and supportive, guiding the student towards the correct understanding.\n"
     ]
    }
   ],
   "source": [
    "adaptive_prompt2 = final_chain.invoke(\n",
    "    {\n",
    "        \n",
    "        'messages': messages,\n",
    "        'response':\"maybe i have 3 apple or 4 i'm bit confused. so 2+2=4\",\n",
    "        \n",
    "    }\n",
    ")\n",
    "print(adaptive_prompt2)"
   ]
  },
  {
   "cell_type": "markdown",
   "id": "e49e607b",
   "metadata": {},
   "source": [
    "## get structure adaptive prompt"
   ]
  },
  {
   "cell_type": "code",
   "execution_count": 98,
   "id": "8ce06814",
   "metadata": {},
   "outputs": [],
   "source": [
    "class AdaptivePrompt(BaseModel):\n",
    "    adaptive_prompt: str = Field(description=\"The final adaptive prompt to guide the main model.\")\n"
   ]
  },
  {
   "cell_type": "code",
   "execution_count": 104,
   "id": "258b0c2b",
   "metadata": {},
   "outputs": [],
   "source": [
    "adaptive_parser = PydanticOutputParser(pydantic_object=AdaptivePrompt)\n",
    "\n",
    "prompt_partially_correct = ChatPromptTemplate.from_messages(\n",
    "    [\n",
    "        (\"system\", \n",
    "         \"\"\"\n",
    "         Your task is to generate one adaptive prompt only. This prompt will be used as the system prompt for the main model. \n",
    "         Think of yourself as a supervisor providing the best instruction for the AI tutor.\n",
    "\n",
    "         You can analyze the previous chat history and the student’s latest response.\n",
    "\n",
    "         Student gave a response which is partially correct: {response}\n",
    "\n",
    "         Return your result in the following format:\n",
    "         {format_instructions}\n",
    "         \"\"\"\n",
    "         ),\n",
    "        MessagesPlaceholder(variable_name=\"messages\")\n",
    "    ]\n",
    ").partial(format_instructions=adaptive_parser.get_format_instructions())\n",
    "\n"
   ]
  },
  {
   "cell_type": "code",
   "execution_count": 113,
   "id": "74d67457",
   "metadata": {},
   "outputs": [],
   "source": [
    "branch_chain = RunnableBranch(\n",
    "    (lambda x: x[\"sentiment\"] == 'correct', prompt_correct | model | adaptive_parser),\n",
    "    (lambda x: x[\"sentiment\"] == 'partially_correct', prompt_partially_correct | model | adaptive_parser),\n",
    "    (lambda x: x[\"sentiment\"] == 'incorrect', prompt_partially_correct | model | adaptive_parser),\n",
    "    RunnableLambda(lambda x: {\"adaptive_prompt\": \"Couldn't determine sentiment.\"})\n",
    ")"
   ]
  },
  {
   "cell_type": "code",
   "execution_count": 114,
   "id": "07d51b0d",
   "metadata": {},
   "outputs": [],
   "source": [
    "from langchain_core.runnables import RunnableLambda\n",
    "\n",
    "# Wrap classifier_chain to return full input + parsed sentiment\n",
    "def enrich_with_sentiment(input: dict) -> dict:\n",
    "    sentiment_result = classifier_chain.invoke(input)\n",
    "    print(sentiment_result)\n",
    "    return {\n",
    "        **input,  # includes 'messages' and 'response'\n",
    "        'sentiment': sentiment_result.sentiment\n",
    "    }\n",
    "\n",
    "enriched_chain = RunnableLambda(enrich_with_sentiment)"
   ]
  },
  {
   "cell_type": "code",
   "execution_count": 115,
   "id": "0ded50c2",
   "metadata": {},
   "outputs": [],
   "source": [
    "final_chain = enriched_chain | branch_chain"
   ]
  },
  {
   "cell_type": "code",
   "execution_count": 116,
   "id": "58f48fd3",
   "metadata": {},
   "outputs": [
    {
     "name": "stdout",
     "output_type": "stream",
     "text": [
      "sentiment='partially_correct'\n",
      "adaptive_prompt='Guide the student by asking clarifying questions and providing examples to help them understand the concept of addition. Address their confusion about the number of apples and reinforce that 2+2 equals 4. Use relatable examples to make the concept clearer.'\n"
     ]
    }
   ],
   "source": [
    "adaptive_prompt3 = final_chain.invoke(\n",
    "    {\n",
    "        \n",
    "        'messages': messages,\n",
    "        'response':\"maybe i have 3 apple or 4 i'm bit confused. so 2+2=4\",\n",
    "        \n",
    "    }\n",
    ")\n",
    "print(adaptive_prompt3)"
   ]
  },
  {
   "cell_type": "code",
   "execution_count": null,
   "id": "39ad4074",
   "metadata": {},
   "outputs": [],
   "source": []
  }
 ],
 "metadata": {
  "kernelspec": {
   "display_name": "torchGPU",
   "language": "python",
   "name": "python3"
  },
  "language_info": {
   "codemirror_mode": {
    "name": "ipython",
    "version": 3
   },
   "file_extension": ".py",
   "mimetype": "text/x-python",
   "name": "python",
   "nbconvert_exporter": "python",
   "pygments_lexer": "ipython3",
   "version": "3.12.4"
  }
 },
 "nbformat": 4,
 "nbformat_minor": 5
}

{
 "cells": [
  {
   "cell_type": "code",
   "execution_count": 1,
   "metadata": {},
   "outputs": [],
   "source": [
    "def generate_adaptive_prompt(student_performance, concept, previous_prompt):\n",
    "    \"\"\"\n",
    "    Generates an adaptive prompt based on the student's performance.\n",
    "\n",
    "    Args:\n",
    "        student_performance: A dictionary containing information about the student's performance.\n",
    "        concept: The mathematical concept being taught.\n",
    "        previous prompt: the prompt before modification.\n",
    "\n",
    "    Returns:\n",
    "        A string containing the adaptive prompt.\n",
    "    \"\"\"\n",
    "\n",
    "    if student_performance[\"correctness\"] < 0.5:  # Student is struggling\n",
    "        if student_performance[\"attempts\"] > 2: # Student made several attempts\n",
    "          return f\"Let's take a easier step about {concept}. {previous_prompt}. let us make a overview\"\n",
    "        # Give a hint\n",
    "        return f\"Stuck? Here's a hint for {concept}: ... {previous_prompt}\" #insert hint here\n",
    "    else:\n",
    "        # Increase the difficulty\n",
    "        return f\"Great job! Now let's try a more challenging problem related to {concept}. {previous_prompt}\" #insert new challenge here\n",
    "# example use\n"
   ]
  },
  {
   "cell_type": "code",
   "execution_count": 2,
   "metadata": {},
   "outputs": [
    {
     "name": "stdout",
     "output_type": "stream",
     "text": [
      "Let's take a easier step about Quadratic Equations. Please solve for x in x^2 + 2x + 1 = 0. let us make a overview\n"
     ]
    }
   ],
   "source": [
    "student_data = {\"correctness\": 0.3, \"attempts\": 3}\n",
    "adaptive_prompt = generate_adaptive_prompt(student_data, \"Quadratic Equations\", \"Please solve for x in x^2 + 2x + 1 = 0\")\n",
    "print(adaptive_prompt)"
   ]
  },
  {
   "cell_type": "code",
   "execution_count": null,
   "metadata": {},
   "outputs": [],
   "source": []
  }
 ],
 "metadata": {
  "kernelspec": {
   "display_name": "torchGPU",
   "language": "python",
   "name": "python3"
  },
  "language_info": {
   "codemirror_mode": {
    "name": "ipython",
    "version": 3
   },
   "file_extension": ".py",
   "mimetype": "text/x-python",
   "name": "python",
   "nbconvert_exporter": "python",
   "pygments_lexer": "ipython3",
   "version": "3.12.4"
  }
 },
 "nbformat": 4,
 "nbformat_minor": 2
}

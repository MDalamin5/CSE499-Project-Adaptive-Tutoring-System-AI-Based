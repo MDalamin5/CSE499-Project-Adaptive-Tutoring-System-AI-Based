{
 "cells": [
  {
   "cell_type": "code",
   "execution_count": null,
   "metadata": {},
   "outputs": [],
   "source": [
    "from datasets import load_dataset\n",
    "import json\n",
    "from transformers import AutoTokenizer\n",
    "\n",
    "# Load tokenizer (replace with your actual LLaMA tokenizer path if needed)\n",
    "tokenizer = AutoTokenizer.from_pretrained(\"meta-llama/Meta-Llama-3-8B\")\n",
    "\n",
    "# Load GSM8K dataset\n",
    "dataset = load_dataset(\"openai/gsm8k\", \"main\")\n",
    "\n",
    "# Alpaca-style prompt template\n",
    "alpaca_prompt = \"\"\"Below is an instruction that describes a task, paired with an input that provides further context. Write a response that appropriately completes the request.\n",
    "\n",
    "### Instruction:\n",
    "{}\n",
    "\n",
    "### Input:\n",
    "{}\n",
    "\n",
    "### Response:\n",
    "{}\"\"\"\n",
    "\n",
    "# EOS Token\n",
    "EOS_TOKEN = tokenizer.eos_token  # Ensure the model stops generation properly\n",
    "\n",
    "# Convert dataset to Alpaca format\n",
    "def formatting_prompts_func(examples):\n",
    "    instructions = [\"Solve the following math problem\"] * len(examples[\"question\"])  # Common instruction for all\n",
    "    inputs = examples[\"question\"]  # Math problems\n",
    "    outputs = examples[\"answer\"]  # Solutions\n",
    "\n",
    "    texts = []\n",
    "    for instruction, input_text, output in zip(instructions, inputs, outputs):\n",
    "        text = alpaca_prompt.format(instruction, input_text, output) + EOS_TOKEN\n",
    "        texts.append(text)\n",
    "\n",
    "    return {\"text\": texts}\n",
    "\n",
    "# Apply formatting function\n",
    "dataset[\"train\"] = dataset[\"train\"].map(formatting_prompts_func, batched=True)\n",
    "dataset[\"test\"] = dataset[\"test\"].map(formatting_prompts_func, batched=True)\n",
    "\n",
    "# Convert dataset to JSON format\n",
    "train_data = [{\"text\": entry} for entry in dataset[\"train\"][\"text\"]]\n",
    "test_data = [{\"text\": entry} for entry in dataset[\"test\"][\"text\"]]\n",
    "\n",
    "# Save to JSON\n",
    "with open(\"gsm8k_train_alpaca.json\", \"w\", encoding=\"utf-8\") as f:\n",
    "    json.dump(train_data, f, indent=4, ensure_ascii=False)\n",
    "\n",
    "with open(\"gsm8k_test_alpaca.json\", \"w\", encoding=\"utf-8\") as f:\n",
    "    json.dump(test_data, f, indent=4, ensure_ascii=False)\n",
    "\n",
    "print(\"Dataset successfully converted to Alpaca-style format for LLaMA 3.1 8B fine-tuning!\")\n"
   ]
  }
 ],
 "metadata": {
  "kernelspec": {
   "display_name": "torchGPU",
   "language": "python",
   "name": "python3"
  },
  "language_info": {
   "name": "python",
   "version": "3.12.4"
  }
 },
 "nbformat": 4,
 "nbformat_minor": 2
}

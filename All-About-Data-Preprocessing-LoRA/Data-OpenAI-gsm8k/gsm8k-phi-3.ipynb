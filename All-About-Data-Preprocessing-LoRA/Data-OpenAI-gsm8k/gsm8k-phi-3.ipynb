{
 "cells": [
  {
   "cell_type": "code",
   "execution_count": 1,
   "metadata": {},
   "outputs": [
    {
     "name": "stderr",
     "output_type": "stream",
     "text": [
      "c:\\Users\\Lenovo\\anaconda3\\envs\\torchGPU\\Lib\\site-packages\\tqdm\\auto.py:21: TqdmWarning: IProgress not found. Please update jupyter and ipywidgets. See https://ipywidgets.readthedocs.io/en/stable/user_install.html\n",
      "  from .autonotebook import tqdm as notebook_tqdm\n"
     ]
    }
   ],
   "source": [
    "from datasets import load_dataset\n",
    "import json\n"
   ]
  },
  {
   "cell_type": "code",
   "execution_count": 3,
   "metadata": {},
   "outputs": [
    {
     "name": "stdout",
     "output_type": "stream",
     "text": [
      "Dataset saved successfully!\n"
     ]
    }
   ],
   "source": [
    "\n",
    "\n",
    "# Load the dataset\n",
    "dataset = load_dataset(\"openai/gsm8k\", \"main\")\n",
    "\n",
    "# Convert the dataset to a list of dictionaries\n",
    "train_data = [dict(sample) for sample in dataset[\"train\"]]  # Convert 'train' split\n",
    "test_data = [dict(sample) for sample in dataset[\"test\"]]  # Convert 'test' split\n",
    "\n",
    "# Save the train set as JSON\n",
    "with open(\"gsm8k_train.json\", \"w\", encoding=\"utf-8\") as f:\n",
    "    json.dump(train_data, f, indent=4, ensure_ascii=False)\n",
    "\n",
    "# Save the test set as JSON\n",
    "with open(\"gsm8k_test.json\", \"w\", encoding=\"utf-8\") as f:\n",
    "    json.dump(test_data, f, indent=4, ensure_ascii=False)\n",
    "\n",
    "print(\"Dataset saved successfully!\")\n"
   ]
  },
  {
   "cell_type": "code",
   "execution_count": null,
   "metadata": {},
   "outputs": [
    {
     "name": "stdout",
     "output_type": "stream",
     "text": [
      "Dataset successfully converted to Phi-3 Mini format!\n"
     ]
    }
   ],
   "source": []
  },
  {
   "cell_type": "code",
   "execution_count": 5,
   "metadata": {},
   "outputs": [
    {
     "name": "stdout",
     "output_type": "stream",
     "text": [
      "Dataset successfully converted and saved in JSON format!\n"
     ]
    }
   ],
   "source": [
    "from datasets import load_dataset\n",
    "import json\n",
    "\n",
    "# Load the dataset\n",
    "dataset = load_dataset(\"openai/gsm8k\", \"main\")\n",
    "\n",
    "# Define system message\n",
    "system_prompt = (\n",
    "    \"<|system|>\\n\"\n",
    "    \"You are a friendly and patient math tutor. You will help students learn algebra \"\n",
    "    \"by providing clear explanations and step-by-step solutions. You will offer hints \"\n",
    "    \"when needed and identify errors in their work. You will encourage them to keep trying.\\n\"\n",
    "    \"<|end|>\\n\"\n",
    ")\n",
    "\n",
    "# Convert the dataset to Phi-3 Mini format\n",
    "def convert_to_phi3_format(example):\n",
    "    user_prompt = f\"<|user|>\\n{example['question']}\\n<|end|>\\n\"\n",
    "    assistant_prompt = f\"<|assistant|>\\n{example['answer']}\\n<|end|>\\n\"\n",
    "    \n",
    "    return {\"text\": system_prompt + user_prompt + assistant_prompt}\n",
    "\n",
    "# Process train and test data\n",
    "train_data = [convert_to_phi3_format(sample) for sample in dataset[\"train\"]]\n",
    "test_data = [convert_to_phi3_format(sample) for sample in dataset[\"test\"]]\n",
    "\n",
    "# Save as JSON\n",
    "with open(\"gsm8k_train_phi3.json\", \"w\", encoding=\"utf-8\") as f:\n",
    "    json.dump(train_data, f, indent=4, ensure_ascii=False)\n",
    "\n",
    "with open(\"gsm8k_test_phi3.json\", \"w\", encoding=\"utf-8\") as f:\n",
    "    json.dump(test_data, f, indent=4, ensure_ascii=False)\n",
    "\n",
    "print(\"Dataset successfully converted and saved in JSON format!\")\n"
   ]
  },
  {
   "cell_type": "code",
   "execution_count": null,
   "metadata": {},
   "outputs": [],
   "source": []
  }
 ],
 "metadata": {
  "kernelspec": {
   "display_name": "torchGPU",
   "language": "python",
   "name": "python3"
  },
  "language_info": {
   "codemirror_mode": {
    "name": "ipython",
    "version": 3
   },
   "file_extension": ".py",
   "mimetype": "text/x-python",
   "name": "python",
   "nbconvert_exporter": "python",
   "pygments_lexer": "ipython3",
   "version": "3.12.4"
  }
 },
 "nbformat": 4,
 "nbformat_minor": 2
}

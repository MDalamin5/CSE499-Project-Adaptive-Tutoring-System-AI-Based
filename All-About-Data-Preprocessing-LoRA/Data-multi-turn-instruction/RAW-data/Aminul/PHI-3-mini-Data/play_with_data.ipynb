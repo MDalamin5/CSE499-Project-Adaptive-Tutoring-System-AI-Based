{
 "cells": [
  {
   "cell_type": "code",
   "execution_count": 1,
   "metadata": {},
   "outputs": [],
   "source": [
    "import pandas as pd"
   ]
  },
  {
   "cell_type": "code",
   "execution_count": 2,
   "metadata": {},
   "outputs": [
    {
     "data": {
      "text/plain": [
       "(138, 2)"
      ]
     },
     "execution_count": 2,
     "metadata": {},
     "output_type": "execute_result"
    }
   ],
   "source": [
    "df = pd.read_json('converted_data_v0.json')\n",
    "df.shape"
   ]
  },
  {
   "cell_type": "code",
   "execution_count": 3,
   "metadata": {},
   "outputs": [
    {
     "name": "stdout",
     "output_type": "stream",
     "text": [
      "<|system|>\n",
      "You are a helpful tutor for solving algebra.\n",
      "<|end|>\n",
      "\n",
      "<|user|>\n",
      "Simplify x^3 + 7x^2 - 2x^3.\n",
      "<|end|>\n",
      "\n",
      "<|assistant|>\n",
      "We can tackle this by first combining like terms. Do you have any idea which terms are alike?\n",
      "<|end|>\n",
      "\n",
      "<|user|>\n",
      "I'm not sure; can I get a hint?\n",
      "<|end|>\n",
      "\n",
      "<|assistant|>\n",
      "Of course! Look at x^3 and -2x^3. When you add them, what do you get?\n",
      "<|end|>\n",
      "\n",
      "<|user|>\n",
      "x^3 plus -2x^3 is -x^3.\n",
      "<|end|>\n",
      "\n",
      "<|assistant|>\n",
      "Exactly! So the expression becomes -x^3 + 7x^2. Now, what is the greatest common factor in both terms?\n",
      "<|end|>\n",
      "\n",
      "<|user|>\n",
      "They both share x^2.\n",
      "<|end|>\n",
      "\n",
      "<|assistant|>\n",
      "Perfect! Factoring out x^2 gives x^2(7 - x). That’s our simplified expression.\n",
      "<|end|>\n"
     ]
    }
   ],
   "source": [
    "print(df['text'][1])"
   ]
  },
  {
   "cell_type": "code",
   "execution_count": 4,
   "metadata": {},
   "outputs": [
    {
     "data": {
      "text/plain": [
       "(138,)"
      ]
     },
     "execution_count": 4,
     "metadata": {},
     "output_type": "execute_result"
    }
   ],
   "source": [
    "updated_df = df['text']\n",
    "updated_df.shape"
   ]
  },
  {
   "cell_type": "code",
   "execution_count": 5,
   "metadata": {},
   "outputs": [
    {
     "data": {
      "text/plain": [
       "0    <|system|>\\nYou are a helpful tutor for solvin...\n",
       "1    <|system|>\\nYou are a helpful tutor for solvin...\n",
       "2    <|system|>\\nYou are a helpful tutor for solvin...\n",
       "3    <|system|>\\nYou are a helpful tutor for solvin...\n",
       "4    <|system|>\\nYou are a helpful tutor for solvin...\n",
       "Name: text, dtype: object"
      ]
     },
     "execution_count": 5,
     "metadata": {},
     "output_type": "execute_result"
    }
   ],
   "source": [
    "updated_df.head()"
   ]
  },
  {
   "cell_type": "code",
   "execution_count": 6,
   "metadata": {},
   "outputs": [],
   "source": [
    "updated_df.to_csv(\"clean_data_v0.csv\", index=False)"
   ]
  },
  {
   "cell_type": "code",
   "execution_count": 7,
   "metadata": {},
   "outputs": [
    {
     "data": {
      "text/html": [
       "<div>\n",
       "<style scoped>\n",
       "    .dataframe tbody tr th:only-of-type {\n",
       "        vertical-align: middle;\n",
       "    }\n",
       "\n",
       "    .dataframe tbody tr th {\n",
       "        vertical-align: top;\n",
       "    }\n",
       "\n",
       "    .dataframe thead th {\n",
       "        text-align: right;\n",
       "    }\n",
       "</style>\n",
       "<table border=\"1\" class=\"dataframe\">\n",
       "  <thead>\n",
       "    <tr style=\"text-align: right;\">\n",
       "      <th></th>\n",
       "      <th>text</th>\n",
       "    </tr>\n",
       "  </thead>\n",
       "  <tbody>\n",
       "    <tr>\n",
       "      <th>0</th>\n",
       "      <td>&lt;|system|&gt;\\nYou are a helpful tutor for solvin...</td>\n",
       "    </tr>\n",
       "    <tr>\n",
       "      <th>1</th>\n",
       "      <td>&lt;|system|&gt;\\nYou are a helpful tutor for solvin...</td>\n",
       "    </tr>\n",
       "    <tr>\n",
       "      <th>2</th>\n",
       "      <td>&lt;|system|&gt;\\nYou are a helpful tutor for solvin...</td>\n",
       "    </tr>\n",
       "    <tr>\n",
       "      <th>3</th>\n",
       "      <td>&lt;|system|&gt;\\nYou are a helpful tutor for solvin...</td>\n",
       "    </tr>\n",
       "    <tr>\n",
       "      <th>4</th>\n",
       "      <td>&lt;|system|&gt;\\nYou are a helpful tutor for solvin...</td>\n",
       "    </tr>\n",
       "  </tbody>\n",
       "</table>\n",
       "</div>"
      ],
      "text/plain": [
       "                                                text\n",
       "0  <|system|>\\nYou are a helpful tutor for solvin...\n",
       "1  <|system|>\\nYou are a helpful tutor for solvin...\n",
       "2  <|system|>\\nYou are a helpful tutor for solvin...\n",
       "3  <|system|>\\nYou are a helpful tutor for solvin...\n",
       "4  <|system|>\\nYou are a helpful tutor for solvin..."
      ]
     },
     "execution_count": 7,
     "metadata": {},
     "output_type": "execute_result"
    }
   ],
   "source": [
    "csv_df = pd.read_csv('clean_data_v0.csv')\n",
    "csv_df.head()"
   ]
  },
  {
   "cell_type": "code",
   "execution_count": 8,
   "metadata": {},
   "outputs": [
    {
     "data": {
      "text/plain": [
       "(210, 2)"
      ]
     },
     "execution_count": 8,
     "metadata": {},
     "output_type": "execute_result"
    }
   ],
   "source": [
    "df_easy = pd.read_json('Easy_converted_data.json')\n",
    "df_easy.shape"
   ]
  },
  {
   "cell_type": "code",
   "execution_count": 9,
   "metadata": {},
   "outputs": [
    {
     "data": {
      "text/plain": [
       "(327, 2)"
      ]
     },
     "execution_count": 9,
     "metadata": {},
     "output_type": "execute_result"
    }
   ],
   "source": [
    "df_medium = pd.read_json('Medium_converted_data.json')\n",
    "df_medium.shape"
   ]
  },
  {
   "cell_type": "code",
   "execution_count": 10,
   "metadata": {},
   "outputs": [
    {
     "data": {
      "text/plain": [
       "675"
      ]
     },
     "execution_count": 10,
     "metadata": {},
     "output_type": "execute_result"
    }
   ],
   "source": [
    "total_data = df.shape[0] + df_easy.shape[0] + df_medium.shape[0]\n",
    "total_data"
   ]
  },
  {
   "cell_type": "code",
   "execution_count": 11,
   "metadata": {},
   "outputs": [
    {
     "name": "stdout",
     "output_type": "stream",
     "text": [
      "         file                                               text\n",
      "0  No-01.json  <|system|>\\nYou are a helpful tutor for solvin...\n",
      "1  No-01.json  <|system|>\\nYou are a helpful tutor for solvin...\n",
      "2  No-01.json  <|system|>\\nYou are a helpful tutor for solvin...\n",
      "3  No-01.json  <|system|>\\nYou are a helpful tutor for solvin...\n",
      "4  No-01.json  <|system|>\\nYou are a helpful tutor for solvin...\n"
     ]
    }
   ],
   "source": [
    "final_df = pd.concat([df, df_easy, df_medium], ignore_index=True)\n",
    "\n",
    "# Display the first few rows\n",
    "print(final_df.head())"
   ]
  },
  {
   "cell_type": "code",
   "execution_count": 12,
   "metadata": {},
   "outputs": [
    {
     "data": {
      "text/plain": [
       "(675, 2)"
      ]
     },
     "execution_count": 12,
     "metadata": {},
     "output_type": "execute_result"
    }
   ],
   "source": [
    "final_df.shape"
   ]
  },
  {
   "cell_type": "code",
   "execution_count": 13,
   "metadata": {},
   "outputs": [],
   "source": [
    "final_csv_data = final_df['text']"
   ]
  },
  {
   "cell_type": "code",
   "execution_count": 14,
   "metadata": {},
   "outputs": [],
   "source": [
    "final_csv_data.to_csv(\"Final_data.csv\", index=False)"
   ]
  },
  {
   "cell_type": "code",
   "execution_count": 15,
   "metadata": {},
   "outputs": [
    {
     "data": {
      "text/html": [
       "<div>\n",
       "<style scoped>\n",
       "    .dataframe tbody tr th:only-of-type {\n",
       "        vertical-align: middle;\n",
       "    }\n",
       "\n",
       "    .dataframe tbody tr th {\n",
       "        vertical-align: top;\n",
       "    }\n",
       "\n",
       "    .dataframe thead th {\n",
       "        text-align: right;\n",
       "    }\n",
       "</style>\n",
       "<table border=\"1\" class=\"dataframe\">\n",
       "  <thead>\n",
       "    <tr style=\"text-align: right;\">\n",
       "      <th></th>\n",
       "      <th>text</th>\n",
       "    </tr>\n",
       "  </thead>\n",
       "  <tbody>\n",
       "    <tr>\n",
       "      <th>0</th>\n",
       "      <td>&lt;|system|&gt;\\nYou are a helpful tutor for solvin...</td>\n",
       "    </tr>\n",
       "    <tr>\n",
       "      <th>1</th>\n",
       "      <td>&lt;|system|&gt;\\nYou are a helpful tutor for solvin...</td>\n",
       "    </tr>\n",
       "    <tr>\n",
       "      <th>2</th>\n",
       "      <td>&lt;|system|&gt;\\nYou are a helpful tutor for solvin...</td>\n",
       "    </tr>\n",
       "    <tr>\n",
       "      <th>3</th>\n",
       "      <td>&lt;|system|&gt;\\nYou are a helpful tutor for solvin...</td>\n",
       "    </tr>\n",
       "    <tr>\n",
       "      <th>4</th>\n",
       "      <td>&lt;|system|&gt;\\nYou are a helpful tutor for solvin...</td>\n",
       "    </tr>\n",
       "    <tr>\n",
       "      <th>5</th>\n",
       "      <td>&lt;|system|&gt;\\nYou are a helpful tutor for solvin...</td>\n",
       "    </tr>\n",
       "    <tr>\n",
       "      <th>6</th>\n",
       "      <td>&lt;|system|&gt;\\nYou are a helpful tutor for solvin...</td>\n",
       "    </tr>\n",
       "    <tr>\n",
       "      <th>7</th>\n",
       "      <td>&lt;|system|&gt;\\nYou are a helpful tutor for solvin...</td>\n",
       "    </tr>\n",
       "    <tr>\n",
       "      <th>8</th>\n",
       "      <td>&lt;|system|&gt;\\nYou are a helpful tutor for solvin...</td>\n",
       "    </tr>\n",
       "    <tr>\n",
       "      <th>9</th>\n",
       "      <td>&lt;|system|&gt;\\nYou are a helpful tutor for solvin...</td>\n",
       "    </tr>\n",
       "  </tbody>\n",
       "</table>\n",
       "</div>"
      ],
      "text/plain": [
       "                                                text\n",
       "0  <|system|>\\nYou are a helpful tutor for solvin...\n",
       "1  <|system|>\\nYou are a helpful tutor for solvin...\n",
       "2  <|system|>\\nYou are a helpful tutor for solvin...\n",
       "3  <|system|>\\nYou are a helpful tutor for solvin...\n",
       "4  <|system|>\\nYou are a helpful tutor for solvin...\n",
       "5  <|system|>\\nYou are a helpful tutor for solvin...\n",
       "6  <|system|>\\nYou are a helpful tutor for solvin...\n",
       "7  <|system|>\\nYou are a helpful tutor for solvin...\n",
       "8  <|system|>\\nYou are a helpful tutor for solvin...\n",
       "9  <|system|>\\nYou are a helpful tutor for solvin..."
      ]
     },
     "execution_count": 15,
     "metadata": {},
     "output_type": "execute_result"
    }
   ],
   "source": [
    "aminul_df = pd.read_csv('Final_data.csv')\n",
    "aminul_df.head(10)"
   ]
  },
  {
   "cell_type": "code",
   "execution_count": 16,
   "metadata": {},
   "outputs": [
    {
     "data": {
      "text/plain": [
       "(675, 1)"
      ]
     },
     "execution_count": 16,
     "metadata": {},
     "output_type": "execute_result"
    }
   ],
   "source": [
    "aminul_df.shape"
   ]
  },
  {
   "cell_type": "code",
   "execution_count": 17,
   "metadata": {},
   "outputs": [],
   "source": [
    "import pandas as pd"
   ]
  },
  {
   "cell_type": "code",
   "execution_count": 18,
   "metadata": {},
   "outputs": [
    {
     "data": {
      "text/plain": [
       "(138, 2)"
      ]
     },
     "execution_count": 18,
     "metadata": {},
     "output_type": "execute_result"
    }
   ],
   "source": [
    "df = pd.read_json('converted_data_v0.json')\n",
    "df.shape"
   ]
  },
  {
   "cell_type": "code",
   "execution_count": 19,
   "metadata": {},
   "outputs": [
    {
     "name": "stdout",
     "output_type": "stream",
     "text": [
      "                                                text\n",
      "0  <|system|>\\nYou are a helpful tutor for solvin...\n",
      "1  <|system|>\\nYou are a helpful tutor for solvin...\n",
      "2  <|system|>\\nYou are a helpful tutor for solvin...\n",
      "3  <|system|>\\nYou are a helpful tutor for solvin...\n",
      "4  <|system|>\\nYou are a helpful tutor for solvin...\n"
     ]
    }
   ],
   "source": [
    "# Drop the \"file\" column, keeping only \"text\"\n",
    "df.drop(columns=[\"file\"], inplace=True)\n",
    "\n",
    "# Now df contains only the \"text\" column\n",
    "print(df.head())\n",
    "\n",
    "# (Optional) If you want to convert df to a Hugging Face Dataset:\n",
    "# from datasets import Dataset\n",
    "# dataset = Dataset.from_pandas(df)\n",
    "# print(dataset)\n"
   ]
  },
  {
   "cell_type": "code",
   "execution_count": 20,
   "metadata": {},
   "outputs": [],
   "source": [
    "df.to_json(\"new_file.json\", orient=\"records\", indent=2)"
   ]
  },
  {
   "cell_type": "code",
   "execution_count": 22,
   "metadata": {},
   "outputs": [
    {
     "data": {
      "text/plain": [
       "(675, 2)"
      ]
     },
     "execution_count": 22,
     "metadata": {},
     "output_type": "execute_result"
    }
   ],
   "source": [
    "final_df.shape"
   ]
  },
  {
   "cell_type": "code",
   "execution_count": 26,
   "metadata": {},
   "outputs": [
    {
     "data": {
      "text/plain": [
       "(675, 1)"
      ]
     },
     "execution_count": 26,
     "metadata": {},
     "output_type": "execute_result"
    }
   ],
   "source": [
    "final_df.drop(columns=[\"file\"], inplace=True)\n",
    "final_df.shape"
   ]
  },
  {
   "cell_type": "code",
   "execution_count": 27,
   "metadata": {},
   "outputs": [
    {
     "data": {
      "text/html": [
       "<div>\n",
       "<style scoped>\n",
       "    .dataframe tbody tr th:only-of-type {\n",
       "        vertical-align: middle;\n",
       "    }\n",
       "\n",
       "    .dataframe tbody tr th {\n",
       "        vertical-align: top;\n",
       "    }\n",
       "\n",
       "    .dataframe thead th {\n",
       "        text-align: right;\n",
       "    }\n",
       "</style>\n",
       "<table border=\"1\" class=\"dataframe\">\n",
       "  <thead>\n",
       "    <tr style=\"text-align: right;\">\n",
       "      <th></th>\n",
       "      <th>text</th>\n",
       "    </tr>\n",
       "  </thead>\n",
       "  <tbody>\n",
       "    <tr>\n",
       "      <th>0</th>\n",
       "      <td>&lt;|system|&gt;\\nYou are a helpful tutor for solvin...</td>\n",
       "    </tr>\n",
       "    <tr>\n",
       "      <th>1</th>\n",
       "      <td>&lt;|system|&gt;\\nYou are a helpful tutor for solvin...</td>\n",
       "    </tr>\n",
       "    <tr>\n",
       "      <th>2</th>\n",
       "      <td>&lt;|system|&gt;\\nYou are a helpful tutor for solvin...</td>\n",
       "    </tr>\n",
       "    <tr>\n",
       "      <th>3</th>\n",
       "      <td>&lt;|system|&gt;\\nYou are a helpful tutor for solvin...</td>\n",
       "    </tr>\n",
       "    <tr>\n",
       "      <th>4</th>\n",
       "      <td>&lt;|system|&gt;\\nYou are a helpful tutor for solvin...</td>\n",
       "    </tr>\n",
       "  </tbody>\n",
       "</table>\n",
       "</div>"
      ],
      "text/plain": [
       "                                                text\n",
       "0  <|system|>\\nYou are a helpful tutor for solvin...\n",
       "1  <|system|>\\nYou are a helpful tutor for solvin...\n",
       "2  <|system|>\\nYou are a helpful tutor for solvin...\n",
       "3  <|system|>\\nYou are a helpful tutor for solvin...\n",
       "4  <|system|>\\nYou are a helpful tutor for solvin..."
      ]
     },
     "execution_count": 27,
     "metadata": {},
     "output_type": "execute_result"
    }
   ],
   "source": [
    "final_df.head()"
   ]
  },
  {
   "cell_type": "code",
   "execution_count": 28,
   "metadata": {},
   "outputs": [],
   "source": [
    "final_df.to_json(\"data_675.json\", orient=\"records\", indent=2)"
   ]
  },
  {
   "cell_type": "code",
   "execution_count": null,
   "metadata": {},
   "outputs": [],
   "source": []
  }
 ],
 "metadata": {
  "kernelspec": {
   "display_name": "torchGPU",
   "language": "python",
   "name": "python3"
  },
  "language_info": {
   "codemirror_mode": {
    "name": "ipython",
    "version": 3
   },
   "file_extension": ".py",
   "mimetype": "text/x-python",
   "name": "python",
   "nbconvert_exporter": "python",
   "pygments_lexer": "ipython3",
   "version": "3.12.4"
  }
 },
 "nbformat": 4,
 "nbformat_minor": 2
}

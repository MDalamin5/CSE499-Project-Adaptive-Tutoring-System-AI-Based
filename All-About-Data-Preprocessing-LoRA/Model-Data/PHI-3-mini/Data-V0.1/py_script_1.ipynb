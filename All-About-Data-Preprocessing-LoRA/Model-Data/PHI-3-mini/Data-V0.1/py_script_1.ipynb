{
 "cells": [
  {
   "cell_type": "code",
   "execution_count": 1,
   "metadata": {},
   "outputs": [
    {
     "name": "stdout",
     "output_type": "stream",
     "text": [
      "EXAMPLE OUTPUT FOR conversation_id=1:\n",
      "\n",
      "<|system|>\n",
      "You are a helpful tutor for solving basic algebra.\n",
      "<|end|>\n",
      "\n",
      "<|user|>\n",
      "Simplify 7(2x + 2) - (2x + 2).\n",
      "<|end|>\n",
      "\n",
      "<|assistant|>\n",
      "Start by distributing 7 to the terms inside the first parentheses: 7(2x + 2) = 14x + 14.\n",
      "<|end|>\n",
      "\n",
      "<|assistant|>\n",
      "Then distribute -1 to the terms inside the second parentheses: -(2x + 2) = -2x - 2.\n",
      "<|end|>\n",
      "\n",
      "<|assistant|>\n",
      "Combine the terms: 14x + 14 - 2x - 2 becomes 12x + 12. Do you understand this step?\n",
      "<|end|>\n",
      "\n",
      "<|user|>\n",
      "Yes, I got it.\n",
      "<|end|>\n",
      "\n",
      "<|assistant|>\n",
      "Great! The final simplified expression is 12x + 12.\n",
      "<|end|>\n",
      "\n",
      "==================================================\n",
      "\n"
     ]
    }
   ],
   "source": [
    "import json\n",
    "\n",
    "# The original data (7 conversations). \n",
    "# In practice, you'd load it from a file, e.g.:\n",
    "# with open(\"original_data.json\", \"r\", encoding=\"utf-8\") as f:\n",
    "#     data = json.load(f)\n",
    "\n",
    "data = [\n",
    "    {\n",
    "        \"conversation_id\": \"1\",\n",
    "        \"topic\": \"Simplifying Expressions\",\n",
    "        \"conversation\": [\n",
    "            {\"turn\": 1, \"step\": 1, \"role\": \"student\", \"message\": \"Simplify 7(2x + 2) - (2x + 2).\"},\n",
    "            {\"turn\": 2, \"step\": 1, \"role\": \"system\", \"message\": \"Start by distributing 7 to the terms inside the first parentheses: 7(2x + 2) = 14x + 14.\"},\n",
    "            {\"turn\": 3, \"step\": 1, \"role\": \"system\", \"message\": \"Then distribute -1 to the terms inside the second parentheses: -(2x + 2) = -2x - 2.\"},\n",
    "            {\"turn\": 4, \"step\": 2, \"role\": \"system\", \"message\": \"Combine the terms: 14x + 14 - 2x - 2 becomes 12x + 12. Do you understand this step?\"},\n",
    "            {\"turn\": 5, \"step\": 3, \"role\": \"student\", \"message\": \"Yes, I got it.\"},\n",
    "            {\"turn\": 6, \"step\": 3, \"role\": \"system\", \"message\": \"Great! The final simplified expression is 12x + 12.\"}\n",
    "        ]\n",
    "    },\n",
    "    {\n",
    "        \"conversation_id\": \"2\",\n",
    "        \"topic\": \"Simplifying Expressions\",\n",
    "        \"conversation\": [\n",
    "            {\"turn\": 1, \"step\": 1, \"role\": \"student\", \"message\": \"Simplify 7(2x + 2) - (2x + 2).\"},\n",
    "            {\"turn\": 2, \"step\": 1, \"role\": \"system\", \"message\": \"Start by distributing 7. Do you know how to handle 7(2x + 2)?\"},\n",
    "            {\"turn\": 3, \"step\": 1, \"role\": \"student\", \"message\": \"Not sure, can you give me a hint?\"},\n",
    "            {\"turn\": 4, \"step\": 1, \"role\": \"system\", \"message\": \"Sure! Multiply 7 by each term inside the parentheses: 7 * 2x = 14x and 7 * 2 = 14. So, 7(2x + 2) = 14x + 14.\"},\n",
    "            {\"turn\": 5, \"step\": 2, \"role\": \"student\", \"message\": \"Oh, I see. What about -(2x + 2)?\"},\n",
    "            {\"turn\": 6, \"step\": 2, \"role\": \"system\", \"message\": \"Good question! Distribute -1 to both terms: -1 * 2x = -2x and -1 * 2 = -2. So, -(2x + 2) = -2x - 2.\"},\n",
    "            {\"turn\": 7, \"step\": 3, \"role\": \"system\", \"message\": \"Combine the terms: 14x + 14 - 2x - 2 becomes 12x + 12.\"},\n",
    "            {\"turn\": 8, \"step\": 3, \"role\": \"student\", \"message\": \"Got it. Thanks!\"}\n",
    "        ]\n",
    "    },\n",
    "    {\n",
    "        \"conversation_id\": \"3\",\n",
    "        \"topic\": \"Simplifying Expressions\",\n",
    "        \"conversation\": [\n",
    "            {\"turn\": 1, \"step\": 1, \"role\": \"student\", \"message\": \"Simplify 7(2x + 2) - (2x + 2).\"},\n",
    "            {\"turn\": 2, \"step\": 1, \"role\": \"system\", \"message\": \"Distribute 7 across (2x + 2) to get 14x + 14, and distribute -1 across (2x + 2) to get -2x - 2.\"},\n",
    "            {\"turn\": 3, \"step\": 1, \"role\": \"student\", \"message\": \"Is there another way to simplify this?\"},\n",
    "            {\"turn\": 4, \"step\": 2, \"role\": \"system\", \"message\": \"Yes! Instead of distributing immediately, notice that (2x + 2) is a common factor. You can write this as (7 - 1)(2x + 2).\"},\n",
    "            {\"turn\": 5, \"step\": 2, \"role\": \"system\", \"message\": \"Simplify (7 - 1) = 6, so it becomes 6(2x + 2) = 12x + 12.\"},\n",
    "            {\"turn\": 6, \"step\": 3, \"role\": \"student\", \"message\": \"Oh, that’s a nice method! Thanks!\"}\n",
    "        ]\n",
    "    },\n",
    "    {\n",
    "        \"conversation_id\": \"4\",\n",
    "        \"topic\": \"Simplifying Expressions\",\n",
    "        \"conversation\": [\n",
    "            {\"turn\": 1, \"step\": 1, \"role\": \"student\", \"message\": \"Simplify 7(2x + 2) - (2x + 2).\"},\n",
    "            {\"turn\": 2, \"step\": 1, \"role\": \"system\", \"message\": \"Distribute 7 across (2x + 2): 7 * 2x = 14x and 7 * 2 = 14, so 7(2x + 2) = 14x + 14.\"},\n",
    "            {\"turn\": 3, \"step\": 1, \"role\": \"system\", \"message\": \"Now distribute -1 across (2x + 2): -1 * 2x = -2x and -1 * 2 = -2, so -(2x + 2) = -2x - 2.\"},\n",
    "            {\"turn\": 4, \"step\": 1, \"role\": \"student\", \"message\": \"Wait, shouldn’t -(2x + 2) just be -2x + 2?\"},\n",
    "            {\"turn\": 5, \"step\": 2, \"role\": \"system\", \"message\": \"Good question! Remember, the -1 applies to both terms in (2x + 2). -1 * 2x = -2x and -1 * 2 = -2. So, it’s -2x - 2.\"},\n",
    "            {\"turn\": 6, \"step\": 2, \"role\": \"student\", \"message\": \"Oh, I see now. Thanks!\"},\n",
    "            {\"turn\": 7, \"step\": 3, \"role\": \"system\", \"message\": \"You’re welcome! Combine the terms: 14x + 14 - 2x - 2 becomes 12x + 12.\"}\n",
    "        ]\n",
    "    },\n",
    "    {\n",
    "        \"conversation_id\": \"5\",\n",
    "        \"topic\": \"Simplifying Expressions\",\n",
    "        \"conversation\": [\n",
    "            {\"turn\": 1, \"step\": 1, \"role\": \"student\", \"message\": \"Simplify 7(2x + 2) - (2x + 2).\"},\n",
    "            {\"turn\": 2, \"step\": 1, \"role\": \"system\", \"message\": \"Distribute 7 across (2x + 2): 7 * 2x = 14x and 7 * 2 = 14, so 7(2x + 2) = 14x + 14.\"},\n",
    "            {\"turn\": 3, \"step\": 1, \"role\": \"student\", \"message\": \"Can you explain why we distribute 7 to both terms?\"},\n",
    "            {\"turn\": 4, \"step\": 2, \"role\": \"system\", \"message\": \"Sure! Distributing means multiplying the number outside the parentheses by each term inside the parentheses. So, 7 * 2x = 14x and 7 * 2 = 14.\"},\n",
    "            {\"turn\": 5, \"step\": 2, \"role\": \"student\", \"message\": \"Got it. What about the -(2x + 2)?\"},\n",
    "            {\"turn\": 6, \"step\": 3, \"role\": \"system\", \"message\": \"You do the same thing: distribute -1 to both terms, so -1 * 2x = -2x and -1 * 2 = -2.\"},\n",
    "            {\"turn\": 7, \"step\": 3, \"role\": \"student\", \"message\": \"Thanks! I understand now.\"}\n",
    "        ]\n",
    "    },\n",
    "    {\n",
    "        \"conversation_id\": \"6\",\n",
    "        \"topic\": \"Simplifying Expressions\",\n",
    "        \"conversation\": [\n",
    "            {\"turn\": 1, \"step\": 1, \"role\": \"student\", \"message\": \"Simplify 7(2x + 2) - (2x + 2).\"},\n",
    "            {\"turn\": 2, \"step\": 1, \"role\": \"system\", \"message\": \"Distribute 7 across (2x + 2): 7 * 2x = 14x and 7 * 2 = 14, so 7(2x + 2) = 14x + 14.\"},\n",
    "            {\"turn\": 3, \"step\": 1, \"role\": \"student\", \"message\": \"Shouldn’t we combine 7 and -1 first?\"},\n",
    "            {\"turn\": 4, \"step\": 2, \"role\": \"system\", \"message\": \"Not quite. You can’t combine 7 and -1 directly because they multiply different terms. First, distribute each separately: 7 * (2x + 2) = 14x + 14 and -1 * (2x + 2) = -2x - 2.\"},\n",
    "            {\"turn\": 5, \"step\": 2, \"role\": \"student\", \"message\": \"Oh, I see. So we combine terms after distributing?\"},\n",
    "            {\"turn\": 6, \"step\": 3, \"role\": \"system\", \"message\": \"Exactly! After distributing, you get 14x + 14 - 2x - 2, which simplifies to 12x + 12.\"}\n",
    "        ]\n",
    "    },\n",
    "    {\n",
    "        \"conversation_id\": \"7\",\n",
    "        \"topic\": \"Simplifying Expressions\",\n",
    "        \"conversation\": [\n",
    "            {\"turn\": 1, \"step\": 1, \"role\": \"student\", \"message\": \"Simplify 7(2x + 2) - (2x + 2).\"},\n",
    "            {\"turn\": 2, \"step\": 1, \"role\": \"system\", \"message\": \"Let’s break it down step by step. First, distribute 7 across (2x + 2).\"},\n",
    "            {\"turn\": 3, \"step\": 1, \"role\": \"student\", \"message\": \"I’m not sure how to do that.\"},\n",
    "            {\"turn\": 4, \"step\": 2, \"role\": \"system\", \"message\": \"No problem! Multiply 7 by 2x to get 14x, and multiply 7 by 2 to get 14. So, 7(2x + 2) = 14x + 14.\"},\n",
    "            {\"turn\": 5, \"step\": 2, \"role\": \"student\", \"message\": \"Got it. What about -(2x + 2)?\"},\n",
    "            {\"turn\": 6, \"step\": 3, \"role\": \"system\", \"message\": \"Good question! Distribute -1 to both terms: -1 * 2x = -2x and -1 * 2 = -2. So, -(2x + 2) = -2x - 2.\"},\n",
    "            {\"turn\": 7, \"step\": 3, \"role\": \"student\", \"message\": \"Oh, so now it’s 14x + 14 - 2x - 2?\"},\n",
    "            {\"turn\": 8, \"step\": 4, \"role\": \"system\", \"message\": \"Exactly! Combine the x-terms (14x - 2x = 12x) and the constants (14 - 2 = 12). The final expression is 12x + 12.\"}\n",
    "        ]\n",
    "    }\n",
    "]\n",
    "\n",
    "# --------------------------------------------------\n",
    "# Conversion to Chat Format\n",
    "# --------------------------------------------------\n",
    "\n",
    "output_data = []\n",
    "\n",
    "for convo_obj in data:\n",
    "    convo_id = convo_obj[\"conversation_id\"]\n",
    "    topic = convo_obj[\"topic\"]\n",
    "    conversation = convo_obj[\"conversation\"]\n",
    "    \n",
    "    \n",
    "    system_str = \"<|system|>\\nYou are a helpful tutor for solving basic algebra.\\n<|end|>\\n\\n\"\n",
    "    \n",
    "   \n",
    "    chat_str = system_str\n",
    "    for turn in conversation:\n",
    "        if turn[\"role\"] == \"student\":\n",
    "            \n",
    "            chat_str += f\"<|user|>\\n{turn['message']}\\n<|end|>\\n\\n\"\n",
    "        elif turn[\"role\"] == \"system\":\n",
    "            # System -> <|assistant|>\n",
    "            chat_str += f\"<|assistant|>\\n{turn['message']}\\n<|end|>\\n\\n\"\n",
    "        \n",
    "    \n",
    "    \n",
    "    chat_str = chat_str.strip()\n",
    "    \n",
    "    \n",
    "    output_data.append({\n",
    "        \"conversation_id\": convo_id,\n",
    "        \"text\": chat_str\n",
    "    })\n",
    "\n",
    "# --------------------------------------------------\n",
    "# Example: Print the first converted conversation\n",
    "# --------------------------------------------------\n",
    "print(\"EXAMPLE OUTPUT FOR conversation_id=1:\\n\")\n",
    "print(output_data[0][\"text\"])\n",
    "print(\"\\n\" + \"=\"*50 + \"\\n\")\n",
    "\n",
    "\n"
   ]
  },
  {
   "cell_type": "code",
   "execution_count": 11,
   "metadata": {},
   "outputs": [
    {
     "name": "stdout",
     "output_type": "stream",
     "text": [
      "<|system|>\n",
      "You are a helpful tutor for solving basic algebra.\n",
      "<|end|>\n",
      "\n",
      "<|user|>\n",
      "Simplify 7(2x + 2) - (2x + 2).\n",
      "<|end|>\n",
      "\n",
      "<|assistant|>\n",
      "Start by distributing 7. Do you know how to handle 7(2x + 2)?\n",
      "<|end|>\n",
      "\n",
      "<|user|>\n",
      "Not sure, can you give me a hint?\n",
      "<|end|>\n",
      "\n",
      "<|assistant|>\n",
      "Sure! Multiply 7 by each term inside the parentheses: 7 * 2x = 14x and 7 * 2 = 14. So, 7(2x + 2) = 14x + 14.\n",
      "<|end|>\n",
      "\n",
      "<|user|>\n",
      "Oh, I see. What about -(2x + 2)?\n",
      "<|end|>\n",
      "\n",
      "<|assistant|>\n",
      "Good question! Distribute -1 to both terms: -1 * 2x = -2x and -1 * 2 = -2. So, -(2x + 2) = -2x - 2.\n",
      "<|end|>\n",
      "\n",
      "<|assistant|>\n",
      "Combine the terms: 14x + 14 - 2x - 2 becomes 12x + 12.\n",
      "<|end|>\n",
      "\n",
      "<|user|>\n",
      "Got it. Thanks!\n",
      "<|end|>\n"
     ]
    }
   ],
   "source": [
    "print(output_data[1][\"text\"])"
   ]
  },
  {
   "cell_type": "code",
   "execution_count": 8,
   "metadata": {},
   "outputs": [
    {
     "data": {
      "text/plain": [
       "673"
      ]
     },
     "execution_count": 8,
     "metadata": {},
     "output_type": "execute_result"
    }
   ],
   "source": [
    "len(output_data[1][\"text\"])"
   ]
  },
  {
   "cell_type": "code",
   "execution_count": 12,
   "metadata": {},
   "outputs": [],
   "source": [
    "import pandas as pd"
   ]
  },
  {
   "cell_type": "code",
   "execution_count": 33,
   "metadata": {},
   "outputs": [
    {
     "data": {
      "text/plain": [
       "(7, 3)"
      ]
     },
     "execution_count": 33,
     "metadata": {},
     "output_type": "execute_result"
    }
   ],
   "source": [
    "df = pd.read_json('data.json')\n",
    "df.shape"
   ]
  },
  {
   "cell_type": "code",
   "execution_count": 15,
   "metadata": {},
   "outputs": [],
   "source": [
    "df.to_csv('data.csv', index=False)"
   ]
  },
  {
   "cell_type": "code",
   "execution_count": 20,
   "metadata": {},
   "outputs": [
    {
     "name": "stdout",
     "output_type": "stream",
     "text": [
      "<class 'pandas.core.frame.DataFrame'>\n",
      "RangeIndex: 7 entries, 0 to 6\n",
      "Data columns (total 3 columns):\n",
      " #   Column           Non-Null Count  Dtype \n",
      "---  ------           --------------  ----- \n",
      " 0   conversation_id  7 non-null      int64 \n",
      " 1   topic            7 non-null      object\n",
      " 2   conversation     7 non-null      object\n",
      "dtypes: int64(1), object(2)\n",
      "memory usage: 300.0+ bytes\n"
     ]
    }
   ],
   "source": [
    "df.info()"
   ]
  },
  {
   "cell_type": "code",
   "execution_count": 34,
   "metadata": {},
   "outputs": [
    {
     "name": "stdout",
     "output_type": "stream",
     "text": [
      "EXAMPLE OUTPUT FOR conversation_id=1:\n",
      "\n",
      "<|system|>\n",
      "You are a helpful tutor for solving basic algebra.\n",
      "<|end|>\n",
      "\n",
      "<|user|>\n",
      "Simplify 7(2x + 2) - (2x + 2).\n",
      "<|end|>\n",
      "\n",
      "<|assistant|>\n",
      "Start by distributing 7 to the terms inside the first parentheses: 7(2x + 2) = 14x + 14.\n",
      "<|end|>\n",
      "\n",
      "<|assistant|>\n",
      "Then distribute -1 to the terms inside the second parentheses: -(2x + 2) = -2x - 2.\n",
      "<|end|>\n",
      "\n",
      "<|assistant|>\n",
      "Combine the terms: 14x + 14 - 2x - 2 becomes 12x + 12. Do you understand this step?\n",
      "<|end|>\n",
      "\n",
      "<|user|>\n",
      "Yes, I got it.\n",
      "<|end|>\n",
      "\n",
      "<|assistant|>\n",
      "Great! The final simplified expression is 12x + 12.\n",
      "<|end|>\n",
      "\n",
      "==================================================\n",
      "\n"
     ]
    }
   ],
   "source": [
    "output_data2 = []\n",
    "\n",
    "# Convert DataFrame rows to a list of dictionaries\n",
    "for convo_obj in df.to_dict(orient=\"records\"):\n",
    "    convo_id = (convo_obj[\"conversation_id\"])  # Convert to string if needed\n",
    "    topic = convo_obj[\"topic\"]\n",
    "    conversation = convo_obj[\"conversation\"]\n",
    "    \n",
    "    # System prompt\n",
    "    system_str = \"<|system|>\\nYou are a helpful tutor for solving basic algebra.\\n<|end|>\\n\\n\"\n",
    "    \n",
    "    # Build the conversation\n",
    "    chat_str = system_str\n",
    "    for turn in conversation:\n",
    "        if turn[\"role\"] == \"student\":\n",
    "            chat_str += f\"<|user|>\\n{turn['message']}\\n<|end|>\\n\\n\"\n",
    "        elif turn[\"role\"] == \"system\":\n",
    "            chat_str += f\"<|assistant|>\\n{turn['message']}\\n<|end|>\\n\\n\"\n",
    "    \n",
    "    chat_str = chat_str.strip()\n",
    "\n",
    "    # Store in the output list\n",
    "    output_data2.append({\n",
    "        # \"conversation_id\": convo_id,  # Ensuring it's a string\n",
    "        \"text\": chat_str\n",
    "    })\n",
    "\n",
    "# Example Output\n",
    "print(\"EXAMPLE OUTPUT FOR conversation_id=1:\\n\")\n",
    "print(output_data2[0][\"text\"])\n",
    "print(\"\\n\" + \"=\" * 50 + \"\\n\")\n"
   ]
  },
  {
   "cell_type": "code",
   "execution_count": 36,
   "metadata": {},
   "outputs": [
    {
     "name": "stdout",
     "output_type": "stream",
     "text": [
      "<|system|>\n",
      "You are a helpful tutor for solving basic algebra.\n",
      "<|end|>\n",
      "\n",
      "<|user|>\n",
      "Simplify 7(2x + 2) - (2x + 2).\n",
      "<|end|>\n",
      "\n",
      "<|assistant|>\n",
      "Distribute 7 across (2x + 2): 7 * 2x = 14x and 7 * 2 = 14, so 7(2x + 2) = 14x + 14.\n",
      "<|end|>\n",
      "\n",
      "<|assistant|>\n",
      "Now distribute -1 across (2x + 2): -1 * 2x = -2x and -1 * 2 = -2, so -(2x + 2) = -2x - 2.\n",
      "<|end|>\n",
      "\n",
      "<|user|>\n",
      "Wait, shouldn’t -(2x + 2) just be -2x + 2?\n",
      "<|end|>\n",
      "\n",
      "<|assistant|>\n",
      "Good question! Remember, the -1 applies to both terms in (2x + 2). -1 * 2x = -2x and -1 * 2 = -2. So, it’s -2x - 2.\n",
      "<|end|>\n",
      "\n",
      "<|user|>\n",
      "Oh, I see now. Thanks!\n",
      "<|end|>\n",
      "\n",
      "<|assistant|>\n",
      "You’re welcome! Combine the terms: 14x + 14 - 2x - 2 becomes 12x + 12.\n",
      "<|end|>\n"
     ]
    }
   ],
   "source": [
    "print(output_data2[3]['text'])"
   ]
  },
  {
   "cell_type": "code",
   "execution_count": null,
   "metadata": {},
   "outputs": [],
   "source": []
  }
 ],
 "metadata": {
  "kernelspec": {
   "display_name": "torchGPU",
   "language": "python",
   "name": "python3"
  },
  "language_info": {
   "codemirror_mode": {
    "name": "ipython",
    "version": 3
   },
   "file_extension": ".py",
   "mimetype": "text/x-python",
   "name": "python",
   "nbconvert_exporter": "python",
   "pygments_lexer": "ipython3",
   "version": "3.12.4"
  }
 },
 "nbformat": 4,
 "nbformat_minor": 2
}

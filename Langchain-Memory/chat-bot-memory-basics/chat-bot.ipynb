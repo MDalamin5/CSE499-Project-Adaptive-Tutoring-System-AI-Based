{
 "cells": [
  {
   "cell_type": "code",
   "execution_count": 2,
   "id": "e3817061",
   "metadata": {},
   "outputs": [],
   "source": [
    "from langchain_core.prompts import PromptTemplate\n",
    "from langchain_core.output_parsers import StrOutputParser\n",
    "from langchain.schema.runnable import RunnableLambda, RunnableBranch, RunnableSequence\n",
    "import os\n",
    "from dotenv import load_dotenv\n",
    "load_dotenv()\n",
    "from langchain_groq import ChatGroq\n",
    "\n",
    "\n",
    "groq_api_key=os.getenv(\"GROQ_API_KEY\")\n",
    "\n",
    "model=ChatGroq(groq_api_key=groq_api_key,model_name=\"meta-llama/llama-4-scout-17b-16e-instruct\")"
   ]
  },
  {
   "cell_type": "code",
   "execution_count": 9,
   "id": "1f40ce09",
   "metadata": {},
   "outputs": [
    {
     "data": {
      "text/plain": [
       "AIMessage(content='Hello! How are you today? Is there something I can help you with, or would you like to chat?', additional_kwargs={}, response_metadata={'token_usage': {'completion_tokens': 24, 'prompt_tokens': 11, 'total_tokens': 35, 'completion_time': 0.047088483, 'prompt_time': 0.00217091, 'queue_time': 0.0468763, 'total_time': 0.049259393}, 'model_name': 'meta-llama/llama-4-scout-17b-16e-instruct', 'system_fingerprint': 'fp_699032b16f', 'finish_reason': 'stop', 'logprobs': None}, id='run-c7253b52-27e0-4d0b-8fcc-fae62c468ecb-0', usage_metadata={'input_tokens': 11, 'output_tokens': 24, 'total_tokens': 35})"
      ]
     },
     "execution_count": 9,
     "metadata": {},
     "output_type": "execute_result"
    }
   ],
   "source": [
    "model.invoke(\"Hi\")"
   ]
  },
  {
   "cell_type": "code",
   "execution_count": 4,
   "id": "be5c59f9",
   "metadata": {},
   "outputs": [
    {
     "data": {
      "text/plain": [
       "AIMessage(content=\"Nice to meet you, Al Amin! I'm glad to hear that you're a junior AI engineer. That's a fascinating field, and I'm sure you're learning a lot. What kind of AI projects are you working on currently? Are you exploring areas like computer vision, natural language processing, or reinforcement learning?\", additional_kwargs={}, response_metadata={'token_usage': {'completion_tokens': 60, 'prompt_tokens': 25, 'total_tokens': 85, 'completion_time': 0.137801135, 'prompt_time': 0.002545401, 'queue_time': 0.24843671699999997, 'total_time': 0.140346536}, 'model_name': 'meta-llama/llama-4-scout-17b-16e-instruct', 'system_fingerprint': 'fp_699032b16f', 'finish_reason': 'stop', 'logprobs': None}, id='run-d32addab-6573-405a-819a-0acb481b15f1-0', usage_metadata={'input_tokens': 25, 'output_tokens': 60, 'total_tokens': 85})"
      ]
     },
     "execution_count": 4,
     "metadata": {},
     "output_type": "execute_result"
    }
   ],
   "source": [
    "from langchain_core.messages import HumanMessage, AIMessage, SystemMessage\n",
    "model.invoke(\n",
    "    [HumanMessage(content=\"Hi, My name is Al Amin and i'am jr. Ai Engineer.\")]\n",
    ")"
   ]
  },
  {
   "cell_type": "code",
   "execution_count": 5,
   "id": "7a74489c",
   "metadata": {},
   "outputs": [
    {
     "data": {
      "text/plain": [
       "AIMessage(content='According to our conversation, your name is Al Amin, and you are a junior AI Engineer.', additional_kwargs={}, response_metadata={'token_usage': {'completion_tokens': 20, 'prompt_tokens': 105, 'total_tokens': 125, 'completion_time': 0.039324928, 'prompt_time': 0.004650374, 'queue_time': 0.255727043, 'total_time': 0.043975302}, 'model_name': 'meta-llama/llama-4-scout-17b-16e-instruct', 'system_fingerprint': 'fp_699032b16f', 'finish_reason': 'stop', 'logprobs': None}, id='run-3ecd9bce-d280-41f4-a41b-b234efda29b6-0', usage_metadata={'input_tokens': 105, 'output_tokens': 20, 'total_tokens': 125})"
      ]
     },
     "execution_count": 5,
     "metadata": {},
     "output_type": "execute_result"
    }
   ],
   "source": [
    "model.invoke(\n",
    "    [\n",
    "        HumanMessage(content=\"Hi, My name is Al Amin and i'am jr. Ai Engineer.\"),\n",
    "        AIMessage(content=\"Nice to meet you, Al Amin! I'm glad to hear that you're a junior AI engineer. That's a fascinating field, and I'm sure you're learning a lot. What kind of AI projects are you working on currently? Are you exploring areas like computer vision, natural language processing, or reinforcement learning?\"),\n",
    "        HumanMessage(content=\"Hey what is my name and what do i do?\")\n",
    "        \n",
    "    ]\n",
    ")"
   ]
  },
  {
   "cell_type": "code",
   "execution_count": null,
   "id": "6d1aead8",
   "metadata": {},
   "outputs": [],
   "source": []
  }
 ],
 "metadata": {
  "kernelspec": {
   "display_name": "torchGPU",
   "language": "python",
   "name": "python3"
  },
  "language_info": {
   "codemirror_mode": {
    "name": "ipython",
    "version": 3
   },
   "file_extension": ".py",
   "mimetype": "text/x-python",
   "name": "python",
   "nbconvert_exporter": "python",
   "pygments_lexer": "ipython3",
   "version": "3.12.4"
  }
 },
 "nbformat": 4,
 "nbformat_minor": 5
}

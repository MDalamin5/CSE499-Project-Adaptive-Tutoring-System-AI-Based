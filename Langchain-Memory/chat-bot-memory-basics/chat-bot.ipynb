{
 "cells": [
  {
   "cell_type": "code",
   "execution_count": 16,
   "id": "e3817061",
   "metadata": {},
   "outputs": [],
   "source": [
    "from langchain_core.prompts import PromptTemplate, ChatPromptTemplate, MessagesPlaceholder\n",
    "from langchain_core.output_parsers import StrOutputParser\n",
    "from langchain.schema.runnable import RunnableLambda, RunnableBranch, RunnableSequence\n",
    "import os\n",
    "from dotenv import load_dotenv\n",
    "load_dotenv()\n",
    "from langchain_groq import ChatGroq\n",
    "\n",
    "\n",
    "groq_api_key=os.getenv(\"GROQ_API_KEY\")\n",
    "\n",
    "model=ChatGroq(groq_api_key=groq_api_key,model_name=\"meta-llama/llama-4-scout-17b-16e-instruct\")"
   ]
  },
  {
   "cell_type": "code",
   "execution_count": 2,
   "id": "1f40ce09",
   "metadata": {},
   "outputs": [
    {
     "data": {
      "text/plain": [
       "AIMessage(content='Hi! How are you today? Is there something I can help you with, or would you like to chat?', additional_kwargs={}, response_metadata={'token_usage': {'completion_tokens': 24, 'prompt_tokens': 11, 'total_tokens': 35, 'completion_time': 0.047159842, 'prompt_time': 0.002468265, 'queue_time': 0.06731271500000001, 'total_time': 0.049628107}, 'model_name': 'meta-llama/llama-4-scout-17b-16e-instruct', 'system_fingerprint': 'fp_699032b16f', 'finish_reason': 'stop', 'logprobs': None}, id='run-e5f27216-3036-4d3c-9504-11e4b320dabc-0', usage_metadata={'input_tokens': 11, 'output_tokens': 24, 'total_tokens': 35})"
      ]
     },
     "execution_count": 2,
     "metadata": {},
     "output_type": "execute_result"
    }
   ],
   "source": [
    "model.invoke(\"Hi\")"
   ]
  },
  {
   "cell_type": "code",
   "execution_count": 3,
   "id": "be5c59f9",
   "metadata": {},
   "outputs": [
    {
     "data": {
      "text/plain": [
       "AIMessage(content=\"Nice to meet you, Al Amin! As a junior AI Engineer, you're likely working on exciting projects and learning new things every day. What kind of AI-related projects are you currently working on or interested in? I'm here to chat and help if you need any guidance or just want to discuss AI-related topics!\", additional_kwargs={}, response_metadata={'token_usage': {'completion_tokens': 63, 'prompt_tokens': 25, 'total_tokens': 88, 'completion_time': 0.123157236, 'prompt_time': 0.002548761, 'queue_time': 0.04677379499999999, 'total_time': 0.125705997}, 'model_name': 'meta-llama/llama-4-scout-17b-16e-instruct', 'system_fingerprint': 'fp_5b1ac042bf', 'finish_reason': 'stop', 'logprobs': None}, id='run-594794e4-ba6d-4b4a-9c14-74b74f82dfeb-0', usage_metadata={'input_tokens': 25, 'output_tokens': 63, 'total_tokens': 88})"
      ]
     },
     "execution_count": 3,
     "metadata": {},
     "output_type": "execute_result"
    }
   ],
   "source": [
    "from langchain_core.messages import HumanMessage, AIMessage, SystemMessage\n",
    "model.invoke(\n",
    "    [HumanMessage(content=\"Hi, My name is Al Amin and i'am jr. Ai Engineer.\")]\n",
    ")"
   ]
  },
  {
   "cell_type": "code",
   "execution_count": 4,
   "id": "7a74489c",
   "metadata": {},
   "outputs": [
    {
     "data": {
      "text/plain": [
       "AIMessage(content=\"According to our conversation, your name is Al Amin, and you're a junior AI Engineer!\", additional_kwargs={}, response_metadata={'token_usage': {'completion_tokens': 19, 'prompt_tokens': 105, 'total_tokens': 124, 'completion_time': 0.037396089, 'prompt_time': 0.004854772, 'queue_time': 0.049405047, 'total_time': 0.042250861}, 'model_name': 'meta-llama/llama-4-scout-17b-16e-instruct', 'system_fingerprint': 'fp_699032b16f', 'finish_reason': 'stop', 'logprobs': None}, id='run-c8c8728a-c572-4c20-b3b3-ab56741d28bd-0', usage_metadata={'input_tokens': 105, 'output_tokens': 19, 'total_tokens': 124})"
      ]
     },
     "execution_count": 4,
     "metadata": {},
     "output_type": "execute_result"
    }
   ],
   "source": [
    "model.invoke(\n",
    "    [\n",
    "        HumanMessage(content=\"Hi, My name is Al Amin and i'am jr. Ai Engineer.\"),\n",
    "        AIMessage(content=\"Nice to meet you, Al Amin! I'm glad to hear that you're a junior AI engineer. That's a fascinating field, and I'm sure you're learning a lot. What kind of AI projects are you working on currently? Are you exploring areas like computer vision, natural language processing, or reinforcement learning?\"),\n",
    "        HumanMessage(content=\"Hey what is my name and what do i do?\")\n",
    "        \n",
    "    ]\n",
    ")"
   ]
  },
  {
   "cell_type": "markdown",
   "id": "61db3644",
   "metadata": {},
   "source": [
    "## ***MessagesHistory-Langchain***"
   ]
  },
  {
   "cell_type": "code",
   "execution_count": 5,
   "id": "6d1aead8",
   "metadata": {},
   "outputs": [],
   "source": [
    "from langchain_community.chat_message_histories import ChatMessageHistory\n",
    "from langchain_core.chat_history import BaseChatMessageHistory\n",
    "from langchain_core.runnables.history import RunnableWithMessageHistory\n",
    "\n"
   ]
  },
  {
   "cell_type": "code",
   "execution_count": 6,
   "id": "5c917900",
   "metadata": {},
   "outputs": [],
   "source": [
    "## messages history variable\n",
    "store = {}\n",
    "\n",
    "## create session is\n",
    "def get_session_history(session_id:str)->BaseChatMessageHistory:\n",
    "    if session_id not in store:\n",
    "        store[session_id] = ChatMessageHistory()\n",
    "    return store[session_id]\n",
    "\n",
    "with_messages_history=RunnableWithMessageHistory(model, get_session_history=get_session_history)"
   ]
  },
  {
   "cell_type": "code",
   "execution_count": 7,
   "id": "fd6d883e",
   "metadata": {},
   "outputs": [],
   "source": [
    "config = {\n",
    "    \"configurable\": {\n",
    "        'session_id': \"chat_1\"\n",
    "    }\n",
    "}"
   ]
  },
  {
   "cell_type": "code",
   "execution_count": 8,
   "id": "5668c5ff",
   "metadata": {},
   "outputs": [
    {
     "data": {
      "text/plain": [
       "'chat_1'"
      ]
     },
     "execution_count": 8,
     "metadata": {},
     "output_type": "execute_result"
    }
   ],
   "source": [
    "config['configurable']['session_id']"
   ]
  },
  {
   "cell_type": "code",
   "execution_count": 9,
   "id": "3d888397",
   "metadata": {},
   "outputs": [
    {
     "data": {
      "text/plain": [
       "AIMessage(content=\"Nice to meet you, Al Amin! Congratulations on your role as a Junior AI Engineer. That's a exciting field to be in, with lots of opportunities for growth and innovation.\\n\\nHow's your journey as a Junior AI Engineer going so far? What kind of projects have you been working on, and what are your interests in AI? I'm here to chat and help if you need any guidance or have questions!\", additional_kwargs={}, response_metadata={'token_usage': {'completion_tokens': 82, 'prompt_tokens': 25, 'total_tokens': 107, 'completion_time': 0.161584098, 'prompt_time': 0.002873627, 'queue_time': 0.056385773, 'total_time': 0.164457725}, 'model_name': 'meta-llama/llama-4-scout-17b-16e-instruct', 'system_fingerprint': 'fp_699032b16f', 'finish_reason': 'stop', 'logprobs': None}, id='run-10e2c940-ec0f-4d85-b1e6-2cc2c143a3fd-0', usage_metadata={'input_tokens': 25, 'output_tokens': 82, 'total_tokens': 107})"
      ]
     },
     "execution_count": 9,
     "metadata": {},
     "output_type": "execute_result"
    }
   ],
   "source": [
    "with_messages_history.invoke(\n",
    "    HumanMessage(content=\"Hi, My name is Al Amin and i'am jr. Ai Engineer.\"),\n",
    "    config=config\n",
    ")"
   ]
  },
  {
   "cell_type": "code",
   "execution_count": 10,
   "id": "8aa21bcf",
   "metadata": {},
   "outputs": [
    {
     "name": "stdout",
     "output_type": "stream",
     "text": [
      "{'chat_1': InMemoryChatMessageHistory(messages=[HumanMessage(content=\"Hi, My name is Al Amin and i'am jr. Ai Engineer.\", additional_kwargs={}, response_metadata={}), AIMessage(content=\"Nice to meet you, Al Amin! Congratulations on your role as a Junior AI Engineer. That's a exciting field to be in, with lots of opportunities for growth and innovation.\\n\\nHow's your journey as a Junior AI Engineer going so far? What kind of projects have you been working on, and what are your interests in AI? I'm here to chat and help if you need any guidance or have questions!\", additional_kwargs={}, response_metadata={'token_usage': {'completion_tokens': 82, 'prompt_tokens': 25, 'total_tokens': 107, 'completion_time': 0.161584098, 'prompt_time': 0.002873627, 'queue_time': 0.056385773, 'total_time': 0.164457725}, 'model_name': 'meta-llama/llama-4-scout-17b-16e-instruct', 'system_fingerprint': 'fp_699032b16f', 'finish_reason': 'stop', 'logprobs': None}, id='run-10e2c940-ec0f-4d85-b1e6-2cc2c143a3fd-0', usage_metadata={'input_tokens': 25, 'output_tokens': 82, 'total_tokens': 107})])}\n"
     ]
    }
   ],
   "source": [
    "print(store)"
   ]
  },
  {
   "cell_type": "code",
   "execution_count": 11,
   "id": "44976e9d",
   "metadata": {},
   "outputs": [
    {
     "data": {
      "text/plain": [
       "AIMessage(content='Your name is Al Amin.', additional_kwargs={}, response_metadata={'token_usage': {'completion_tokens': 7, 'prompt_tokens': 121, 'total_tokens': 128, 'completion_time': 0.013959158, 'prompt_time': 0.005479986, 'queue_time': 0.047561319, 'total_time': 0.019439144}, 'model_name': 'meta-llama/llama-4-scout-17b-16e-instruct', 'system_fingerprint': 'fp_5b1ac042bf', 'finish_reason': 'stop', 'logprobs': None}, id='run-952ce511-1f8f-4500-b87c-a056cfe2bf5b-0', usage_metadata={'input_tokens': 121, 'output_tokens': 7, 'total_tokens': 128})"
      ]
     },
     "execution_count": 11,
     "metadata": {},
     "output_type": "execute_result"
    }
   ],
   "source": [
    "with_messages_history.invoke(\n",
    "    HumanMessage(content=\"what is my name?\"),\n",
    "    config=config\n",
    ")"
   ]
  },
  {
   "cell_type": "code",
   "execution_count": 12,
   "id": "cdee7584",
   "metadata": {},
   "outputs": [],
   "source": [
    "config = {\n",
    "    \"configurable\": {\n",
    "        'session_id': \"chat_2\"\n",
    "    }\n",
    "}"
   ]
  },
  {
   "cell_type": "code",
   "execution_count": 13,
   "id": "ba4a46aa",
   "metadata": {},
   "outputs": [
    {
     "data": {
      "text/plain": [
       "\"I'm Meta AI. Think of me like an assistant who's here to help you learn, plan, and create. How can I assist you?\""
      ]
     },
     "execution_count": 13,
     "metadata": {},
     "output_type": "execute_result"
    }
   ],
   "source": [
    "with_messages_history.invoke(\n",
    "    HumanMessage(content=\"what is my name?\"),\n",
    "    config=config\n",
    ").content"
   ]
  },
  {
   "cell_type": "markdown",
   "id": "97ccc8f3",
   "metadata": {},
   "source": [
    "## *Chat Messages History with PromptTemplate*"
   ]
  },
  {
   "cell_type": "code",
   "execution_count": 14,
   "id": "e4e4f065",
   "metadata": {},
   "outputs": [],
   "source": [
    "system_messages = \"You're a helpful assistant. Answer all the question to the best of your ability\""
   ]
  },
  {
   "cell_type": "code",
   "execution_count": 17,
   "id": "c3738122",
   "metadata": {},
   "outputs": [],
   "source": [
    "prompt = ChatPromptTemplate.from_messages(\n",
    "    [\n",
    "        ('system', system_messages),\n",
    "        MessagesPlaceholder(variable_name='messages')\n",
    "    ]\n",
    ")"
   ]
  },
  {
   "cell_type": "code",
   "execution_count": 18,
   "id": "e0dd277e",
   "metadata": {},
   "outputs": [],
   "source": [
    "from langchain.schema.runnable import RunnableSequence\n",
    "chain = RunnableSequence(prompt, model)"
   ]
  },
  {
   "cell_type": "code",
   "execution_count": 20,
   "id": "b8c3cf9b",
   "metadata": {},
   "outputs": [
    {
     "data": {
      "text/plain": [
       "'Nice to meet you, Al Amin! How are you doing today? Is there something I can help you with or would you like to chat?'"
      ]
     },
     "execution_count": 20,
     "metadata": {},
     "output_type": "execute_result"
    }
   ],
   "source": [
    "chain.invoke(\n",
    "    {\n",
    "        'messages': [HumanMessage(content=\"Hello!, my Name is Al Amin\")]\n",
    "    }\n",
    ").content"
   ]
  },
  {
   "cell_type": "code",
   "execution_count": 21,
   "id": "efcb9d3f",
   "metadata": {},
   "outputs": [],
   "source": [
    "with_messages_history = RunnableWithMessageHistory(chain, get_session_history=get_session_history)"
   ]
  },
  {
   "cell_type": "code",
   "execution_count": 22,
   "id": "402d2fe9",
   "metadata": {},
   "outputs": [],
   "source": [
    "confit = {\n",
    "    'configurable': {\n",
    "        'session_id': 'chat3'\n",
    "    }\n",
    "}"
   ]
  },
  {
   "cell_type": "code",
   "execution_count": 23,
   "id": "d743ca56",
   "metadata": {},
   "outputs": [
    {
     "data": {
      "text/plain": [
       "AIMessage(content=\"Nice to meet you, Al Amin! How are you doing today? What's on your mind, do you have any questions or topics you'd like to discuss? I'm here to help!\", additional_kwargs={}, response_metadata={'token_usage': {'completion_tokens': 37, 'prompt_tokens': 37, 'total_tokens': 74, 'completion_time': 0.072634706, 'prompt_time': 0.002842579, 'queue_time': 0.048839377, 'total_time': 0.075477285}, 'model_name': 'meta-llama/llama-4-scout-17b-16e-instruct', 'system_fingerprint': 'fp_699032b16f', 'finish_reason': 'stop', 'logprobs': None}, id='run-42955a49-6c40-4b44-827e-b23b6fde1a73-0', usage_metadata={'input_tokens': 37, 'output_tokens': 37, 'total_tokens': 74})"
      ]
     },
     "execution_count": 23,
     "metadata": {},
     "output_type": "execute_result"
    }
   ],
   "source": [
    "with_messages_history.invoke(\n",
    "    [\n",
    "        HumanMessage(content=\"Hello!, My name is Al Amin\")\n",
    "    ],\n",
    "    config=confit\n",
    ")"
   ]
  },
  {
   "cell_type": "code",
   "execution_count": 27,
   "id": "5d78ad02",
   "metadata": {},
   "outputs": [],
   "source": [
    "## a bit complexity\n",
    "\n",
    "prompt = ChatPromptTemplate.from_messages(\n",
    "    [\n",
    "        ('system', \"You are a helpful assistant. Answer all question to the best of you ability in {language}\"),\n",
    "        MessagesPlaceholder(variable_name='messages')\n",
    "    ], \n",
    "    \n",
    ")\n",
    "\n",
    "chain = prompt | model"
   ]
  },
  {
   "cell_type": "code",
   "execution_count": 28,
   "id": "d2d75c08",
   "metadata": {},
   "outputs": [
    {
     "data": {
      "text/plain": [
       "AIMessage(content='হ্যালো! আমি আপনার সাথে কথা বলে খুশি। আপনার নাম আল আমিন, সত্যিই ভালো নাম! কেমন আছেন আপনি?', additional_kwargs={}, response_metadata={'token_usage': {'completion_tokens': 36, 'prompt_tokens': 40, 'total_tokens': 76, 'completion_time': 0.071420423, 'prompt_time': 0.002839967, 'queue_time': 0.045697542, 'total_time': 0.07426039}, 'model_name': 'meta-llama/llama-4-scout-17b-16e-instruct', 'system_fingerprint': 'fp_699032b16f', 'finish_reason': 'stop', 'logprobs': None}, id='run-bb04b61f-9817-4954-8c40-5156eaedfa45-0', usage_metadata={'input_tokens': 40, 'output_tokens': 36, 'total_tokens': 76})"
      ]
     },
     "execution_count": 28,
     "metadata": {},
     "output_type": "execute_result"
    }
   ],
   "source": [
    "chain.invoke(\n",
    "    {\n",
    "        'messages': [HumanMessage(content=\"Hi, My name is Al Amin\")],\n",
    "        'language': 'Bangla'\n",
    "    }\n",
    ")"
   ]
  },
  {
   "cell_type": "code",
   "execution_count": 29,
   "id": "96100ef9",
   "metadata": {},
   "outputs": [],
   "source": [
    "with_messages_history = RunnableWithMessageHistory(\n",
    "    chain,\n",
    "    get_session_history=get_session_history,\n",
    "    input_messages_key=\"messages\"\n",
    ")"
   ]
  },
  {
   "cell_type": "code",
   "execution_count": 30,
   "id": "89beadad",
   "metadata": {},
   "outputs": [],
   "source": [
    "config = {\n",
    "    'configurable': {\n",
    "        \"session_id\": \"chat_4\"\n",
    "    }\n",
    "}"
   ]
  },
  {
   "cell_type": "code",
   "execution_count": 31,
   "id": "39bd1d1c",
   "metadata": {},
   "outputs": [],
   "source": [
    "response = with_messages_history.invoke(\n",
    "    {\n",
    "        'messages': [HumanMessage(content=\"Assalamualikum, i'm Al Amin. How are you\")],\n",
    "        'language': 'Bangla'\n",
    "    },\n",
    "    config=config\n",
    ")"
   ]
  },
  {
   "cell_type": "code",
   "execution_count": 32,
   "id": "c222a22d",
   "metadata": {},
   "outputs": [
    {
     "data": {
      "text/plain": [
       "\"Wa alaikumussalam, Al Amin! I'm doing well, thank you for asking. I'm just a computer program, so I don't have feelings like humans do, but I'm always happy to chat with you! How about you, how's your day going?\""
      ]
     },
     "execution_count": 32,
     "metadata": {},
     "output_type": "execute_result"
    }
   ],
   "source": [
    "response.content"
   ]
  },
  {
   "cell_type": "code",
   "execution_count": 33,
   "id": "873fc527",
   "metadata": {},
   "outputs": [],
   "source": [
    "response = with_messages_history.invoke(\n",
    "    {\n",
    "        'messages': [HumanMessage(content=\"What is my Name?\")],\n",
    "        'language': 'Bangla'\n",
    "    },\n",
    "    config=config\n",
    ")"
   ]
  },
  {
   "cell_type": "code",
   "execution_count": 34,
   "id": "1903e025",
   "metadata": {},
   "outputs": [
    {
     "data": {
      "text/plain": [
       "'Your name is Al Amin! You mentioned it at the beginning of our conversation.'"
      ]
     },
     "execution_count": 34,
     "metadata": {},
     "output_type": "execute_result"
    }
   ],
   "source": [
    "response.content"
   ]
  },
  {
   "cell_type": "code",
   "execution_count": null,
   "id": "e6283034",
   "metadata": {},
   "outputs": [],
   "source": []
  }
 ],
 "metadata": {
  "kernelspec": {
   "display_name": "torchGPU",
   "language": "python",
   "name": "python3"
  },
  "language_info": {
   "codemirror_mode": {
    "name": "ipython",
    "version": 3
   },
   "file_extension": ".py",
   "mimetype": "text/x-python",
   "name": "python",
   "nbconvert_exporter": "python",
   "pygments_lexer": "ipython3",
   "version": "3.12.4"
  }
 },
 "nbformat": 4,
 "nbformat_minor": 5
}
